{
 "cells": [
  {
   "cell_type": "markdown",
   "metadata": {},
   "source": [
    "# This is Jeopardy!"
   ]
  },
  {
   "cell_type": "markdown",
   "metadata": {},
   "source": [
    "#### Overview"
   ]
  },
  {
   "cell_type": "markdown",
   "metadata": {},
   "source": [
    "This project is slightly different than others you have encountered thus far. Instead of a step-by-step tutorial, this project contains a series of open-ended requirements which describe the project you'll be building. There are many possible ways to correctly fulfill all of these requirements, and you should expect to use the internet, Codecademy, and/or other resources when you encounter a problem that you cannot easily solve."
   ]
  },
  {
   "cell_type": "markdown",
   "metadata": {},
   "source": [
    "#### Project Goals"
   ]
  },
  {
   "cell_type": "markdown",
   "metadata": {},
   "source": [
    "You will work to write several functions that investigate a dataset of _Jeopardy!_ questions and answers. Filter the dataset for topics that you're interested in, compute the average difficulty of those questions, and train to become the next Jeopardy champion!"
   ]
  },
  {
   "cell_type": "markdown",
   "metadata": {},
   "source": [
    "## Prerequisites"
   ]
  },
  {
   "cell_type": "markdown",
   "metadata": {},
   "source": [
    "In order to complete this project, you should have completed the Pandas lessons in the <a href=\"https://www.codecademy.com/learn/paths/analyze-data-with-python\">Analyze Data with Python Skill Path</a>. You can also find those lessons in the <a href=\"https://www.codecademy.com/learn/data-processing-pandas\">Data Analysis with Pandas course</a> or the <a href=\"https://www.codecademy.com/learn/paths/data-science/\">Data Scientist Career Path</a>.\n",
    "\n",
    "Finally, the <a href=\"https://www.codecademy.com/learn/practical-data-cleaning\">Practical Data Cleaning</a> course may also be helpful."
   ]
  },
  {
   "cell_type": "markdown",
   "metadata": {},
   "source": [
    "## Project Requirements"
   ]
  },
  {
   "cell_type": "markdown",
   "metadata": {},
   "source": [
    "1. We've provided a csv file containing data about the game show _Jeopardy!_ in a file named `jeopardy.csv`. Load the data into a DataFrame and investigate its contents. Try to print out specific columns.\n",
    "\n",
    "   Note that in order to make this project as \"real-world\" as possible, we haven't modified the data at all - we're giving it to you exactly how we found it. As a result, this data isn't as \"clean\" as the datasets you normally find on Codecademy. More specifically, there's something odd about the column names. After you figure out the problem with the column names, you may want to rename them to make your life easier for the rest of the project.\n",
    "   \n",
    "   In order to display the full contents of a column, we've added this line of code for you:\n",
    "   \n",
    "   ```py\n",
    "   pd.set_option('display.max_colwidth', None)\n",
    "   ```"
   ]
  },
  {
   "cell_type": "code",
   "execution_count": 63,
   "metadata": {
    "editable": true,
    "slideshow": {
     "slide_type": ""
    },
    "tags": []
   },
   "outputs": [
    {
     "name": "stdout",
     "output_type": "stream",
     "text": [
      "Index(['Show Number', 'Air Date', 'Round', 'Category', 'Value', 'Question',\n",
      "       'Answer'],\n",
      "      dtype='object')\n"
     ]
    }
   ],
   "source": [
    "import pandas as pd\n",
    "pd.set_option('display.max_colwidth', None)\n",
    "\n",
    "jeopardy_data = pd.read_csv(\"jeopardy.csv\")\n",
    "jeopardy_data = jeopardy_data.rename(columns = {\" Air Date\": \"Air Date\", \" Round\" : \"Round\", \" Category\": \"Category\", \" Value\": \"Value\", \" Question\":\"Question\", \" Answer\": \"Answer\"})\n",
    "\n",
    "print(jeopardy_data.columns)"
   ]
  },
  {
   "cell_type": "markdown",
   "metadata": {},
   "source": [
    "2. Write a function that filters the dataset for questions that contains all of the words in a list of words. For example, when the list `[\"King\", \"England\"]` was passed to our function, the function returned a DataFrame of 49 rows. Every row had the strings `\"King\"` and `\"England\"` somewhere in its `\" Question\"`.\n",
    "\n",
    "   Test your function by printing out the column containing the question of each row of the dataset."
   ]
  },
  {
   "cell_type": "code",
   "execution_count": 64,
   "metadata": {},
   "outputs": [],
   "source": [
    "# Version 1: Simple substring check (case-sensitive, matches partial words)\n",
    "# Example: searching \"King\" will also match \"Viking\" or \"kingdom\".\n",
    "def filter_question_v1(data,words):\n",
    "    filter = data.Question.apply(\n",
    "        lambda x: all(word in str(x) for word in words)\n",
    "    )\n",
    "    return data.loc[filter]"
   ]
  },
  {
   "cell_type": "markdown",
   "metadata": {},
   "source": [
    "3. Test your original function with a few different sets of words to try to find some ways your function breaks. Edit your function so it is more robust.\n",
    "\n",
    "   For example, think about capitalization. We probably want to find questions that contain the word `\"King\"` or `\"king\"`.\n",
    "   \n",
    "   You may also want to check to make sure you don't find rows that contain substrings of your given words. For example, our function found a question that didn't contain the word `\"king\"`, however it did contain the word `\"viking\"` &mdash; it found the `\"king\"` inside `\"viking\"`. Note that this also comes with some drawbacks &mdash; you would no longer find questions that contained words like `\"England's\"`."
   ]
  },
  {
   "cell_type": "code",
   "execution_count": 65,
   "metadata": {},
   "outputs": [],
   "source": [
    "import re\n",
    "\n",
    "# Version 2: Split question into words and check for exact word match (case-insensitive)\n",
    "# More precise than v1, but punctuation attached to words may cause misses.\n",
    "# Example: \"King\" matches \"King\" but not \"King.\"\n",
    "def filter_question_v2(data, words):\n",
    "    filter = data.Question.apply(\n",
    "        lambda x: all(word.lower() in str(x).lower().split() for word in words)\n",
    "    )\n",
    "    return data.loc[filter]\n",
    "\n",
    "# Version 3: Uses regex with word boundaries to match whole words (case-insensitive)\n",
    "# Most robust approach, handles punctuation and special characters correctly.\n",
    "# Example: \"King\" matches \"King\", \"King?\".\n",
    "def filter_question_v3(data, words):\n",
    "    filter = data.Question.apply(\n",
    "        lambda x: all(re.search(rf\"\\b{re.escape(word)}\\b\", str(x), re.IGNORECASE) for word in words)\n",
    "    )\n",
    "    return data.loc[filter]"
   ]
  },
  {
   "cell_type": "code",
   "execution_count": 66,
   "metadata": {
    "editable": true,
    "slideshow": {
     "slide_type": ""
    },
    "tags": []
   },
   "outputs": [
    {
     "name": "stdout",
     "output_type": "stream",
     "text": [
      "40        <a href=\"http://www.j-archive.com/media/2004-12-31_DJ_26.mp3\">Ripped from today's headlines, he was a turtle king gone mad; Mack was the one good turtle who'd bring him down</a>\n",
      "50                      <a href=\"http://www.j-archive.com/media/2004-12-31_DJ_24.mp3\">\"500 Hats\"... 500 ways to die.  On July 4th, this young boy will defy a king... & become a legend</a>\n",
      "399                                                                                                                     Between 1842 & 1885, he repeatedly revised his \"Idylls of the King\"\n",
      "545                                                                                                         Robin Quivers is the radio consort of this self-proclaimed  \"King of All Media\"\n",
      "781                                                                                                                A Norman could say, \"I'm the king of the motte-and-bailey style of\" this\n",
      "                                                                                                ...                                                                                        \n",
      "216612                                                                                                                               Her 2 husbands were Uriah the Hittite & David the king\n",
      "216675                                                                                                             Stephen King's 1980 overview of the horror genre was called \"Danse\" this\n",
      "216752                                                                         Upon signing his name in 1776 he said, \"There, King George will be able to read that without his spectacles\"\n",
      "216777                                                                   The first one of these tombs was built about 2650 B.C. by Imhotep for King Zoser & rose about 200 feet using steps\n",
      "216787                                                                                     A Hoffmann tale title lost the words \"And The Mouse King\" when it became this Tchaikovsky ballet\n",
      "Name: Question, Length: 2744, dtype: object\n"
     ]
    }
   ],
   "source": [
    "v1 = filter_question_v1(jeopardy_data, [\"King\"])\n",
    "v2 = filter_question_v2(jeopardy_data, [\"King\"])\n",
    "v3 = filter_question_v3(jeopardy_data, [\"King\"])\n",
    "\n",
    "print(v3[\"Question\"])"
   ]
  },
  {
   "cell_type": "markdown",
   "metadata": {},
   "source": [
    "4. We may want to eventually compute aggregate statistics, like `.mean()` on the `\" Value\"` column. But right now, the values in that column are strings. Convert the`\" Value\"` column to floats. If you'd like to, you can create a new column with float values.\n",
    "\n",
    "   While most of the values in the `\" Value\"` column represent a dollar amount as a string, note that some do not &mdash; these values will need to be handled differently!\n",
    "\n",
    "   Now that you can filter the dataset of question, use your new column that contains the float values of each question to find the \"difficulty\" of certain topics. For example, what is the average value of questions that contain the word `\"King\"`?\n",
    "   \n",
    "   Make sure to use the dataset that contains the float values as the dataset you use in your filtering function."
   ]
  },
  {
   "cell_type": "code",
   "execution_count": 67,
   "metadata": {
    "editable": true,
    "slideshow": {
     "slide_type": ""
    },
    "tags": []
   },
   "outputs": [
    {
     "name": "stdout",
     "output_type": "stream",
     "text": [
      "803.2981049562683\n"
     ]
    }
   ],
   "source": [
    "jeopardy_data[\"Float Value\"] = jeopardy_data[\"Value\"].apply(lambda x: float(x[1:].replace(',','')) if x != \"no value\" else 0)\n",
    "\n",
    "v3 = filter_question_v3(jeopardy_data, [\"King\"])\n",
    "print(v3[\"Float Value\"].mean())"
   ]
  },
  {
   "cell_type": "markdown",
   "metadata": {},
   "source": [
    "5. Write a function that returns the count of unique answers to all of the questions in a dataset. For example, after filtering the entire dataset to only questions containing the word `\"King\"`, we could then find all of the unique answers to those questions. The answer \"Henry VIII\" appeared 55 times and was the most common answer."
   ]
  },
  {
   "cell_type": "code",
   "execution_count": 68,
   "metadata": {
    "editable": true,
    "slideshow": {
     "slide_type": ""
    },
    "tags": []
   },
   "outputs": [
    {
     "name": "stdout",
     "output_type": "stream",
     "text": [
      "Answer\n",
      "Henry VIII           54\n",
      "Louis XIV            31\n",
      "Solomon              31\n",
      "David                29\n",
      "Richard III          24\n",
      "                     ..\n",
      "Cheops (or Khufu)     1\n",
      "abdicated             1\n",
      "Herod The Great       1\n",
      "(Yul) Brynner         1\n",
      "Crown Prince          1\n",
      "Name: count, Length: 1499, dtype: int64\n"
     ]
    }
   ],
   "source": [
    "def count_unique_answers(data):\n",
    "    return data['Answer'].value_counts()\n",
    "\n",
    "print(count_unique_answers(v3))"
   ]
  },
  {
   "cell_type": "markdown",
   "metadata": {
    "editable": true,
    "slideshow": {
     "slide_type": ""
    },
    "tags": []
   },
   "source": [
    "6. Explore from here! This is an incredibly rich dataset, and there are so many interesting things to discover. There are a few columns that we haven't even started looking at yet. Here are some ideas on ways to continue working with this data:\n",
    "\n",
    " * Investigate the ways in which questions change over time by filtering by the date. How many questions from the 90s use the word `\"Computer\"` compared to questions from the 2000s?\n",
    " * Is there a connection between the round and the category? Are you more likely to find certain categories, like `\"Literature\"` in Single Jeopardy or Double Jeopardy?\n",
    " * Build a system to quiz yourself. Grab random questions, and use the <a href=\"https://docs.python.org/3/library/functions.html#input\">input</a> function to get a response from the user. Check to see if that response was right or wrong."
   ]
  },
  {
   "cell_type": "code",
   "execution_count": 69,
   "metadata": {
    "editable": true,
    "slideshow": {
     "slide_type": ""
    },
    "tags": []
   },
   "outputs": [
    {
     "name": "stdout",
     "output_type": "stream",
     "text": [
      "Number of questions from the 90s that use the word \"Computer\": 79\n",
      "Number of questions from the 2000s that use the word \"Computer\": 227\n"
     ]
    }
   ],
   "source": [
    "jeopardy_data[\"Year\"] = jeopardy_data[\"Air Date\"].apply(lambda x: int(str(x)[:4]))\n",
    "\n",
    "data_90s = jeopardy_data[(jeopardy_data[\"Year\"] >= 1990) & (jeopardy_data[\"Year\"] < 2000)]\n",
    "data_00s = jeopardy_data[(jeopardy_data[\"Year\"] >= 2000) & (jeopardy_data[\"Year\"] < 2010)]\n",
    "\n",
    "v3_90s = filter_question_v3(data_90s, [\"Computer\"])\n",
    "v3_00s = filter_question_v3(data_00s, [\"Computer\"])\n",
    "\n",
    "print('Number of questions from the 90s that use the word \"Computer\": '+ str(len(v3_90s)))\n",
    "print('Number of questions from the 2000s that use the word \"Computer\": '+ str(len(v3_00s)))\n"
   ]
  },
  {
   "cell_type": "code",
   "execution_count": 73,
   "metadata": {
    "editable": true,
    "slideshow": {
     "slide_type": ""
    },
    "tags": []
   },
   "outputs": [
    {
     "name": "stdout",
     "output_type": "stream",
     "text": [
      "Number of questions in Single Jeopardy that use the \"Literature\" Category: 105\n",
      "Number of questions in Double Jeopardy that use the \"Literature\" Category: 381\n"
     ]
    }
   ],
   "source": [
    "single = jeopardy_data[(jeopardy_data[\"Round\"] == 'Jeopardy!') & (jeopardy_data[\"Category\"] == 'LITERATURE')]\n",
    "double = jeopardy_data[(jeopardy_data[\"Round\"] == 'Double Jeopardy!') & (jeopardy_data[\"Category\"] == 'LITERATURE')]\n",
    "\n",
    "print('Number of questions in Single Jeopardy that use the \"Literature\" Category: '+ str(len(single)))\n",
    "print('Number of questions in Double Jeopardy that use the \"Literature\" Category: '+ str(len(double)))\n",
    "\n"
   ]
  },
  {
   "cell_type": "code",
   "execution_count": 75,
   "metadata": {},
   "outputs": [],
   "source": [
    "def quiz():\n",
    "    random_index = random.randint(0, len(jeopardy_data) - 1)\n",
    "    question = jeopardy_data.loc[random_index, \"Question\"]\n",
    "    correct_answer = jeopardy_data.loc[random_index, \"Answer\"]\n",
    "    \n",
    "    user_answer = input(question + \" \").strip().lower()\n",
    "    if user_answer == correct_answer:\n",
    "        print(\"Correct!\")\n",
    "    else:\n",
    "        print(f\"Wrong! The correct answer is '{correct_answer}'.\")"
   ]
  },
  {
   "cell_type": "markdown",
   "metadata": {
    "editable": true,
    "slideshow": {
     "slide_type": ""
    },
    "tags": []
   },
   "source": [
    "## Solution"
   ]
  },
  {
   "cell_type": "markdown",
   "metadata": {},
   "source": [
    "7. Compare your program to our <a href=\"https://content.codecademy.com/PRO/independent-practice-projects/jeopardy/jeopardy_solution.zip\">sample solution code</a> - remember, that your program might look different from ours (and probably will) and that's okay!"
   ]
  },
  {
   "cell_type": "markdown",
   "metadata": {},
   "source": [
    "8. Great work! Visit <a href=\"https://discuss.codecademy.com/t/this-is-jeopardy-challenge-project-python-pandas/462365\">our forums</a> to compare your project to our sample solution code. You can also learn how to host your own solution on GitHub so you can share it with other learners! Your solution might look different from ours, and that's okay! There are multiple ways to solve these projects, and you'll learn more by seeing others' code."
   ]
  },
  {
   "cell_type": "code",
   "execution_count": null,
   "metadata": {},
   "outputs": [],
   "source": []
  }
 ],
 "metadata": {
  "kernelspec": {
   "display_name": "Python 3 (ipykernel)",
   "language": "python",
   "name": "python3"
  },
  "language_info": {
   "codemirror_mode": {
    "name": "ipython",
    "version": 3
   },
   "file_extension": ".py",
   "mimetype": "text/x-python",
   "name": "python",
   "nbconvert_exporter": "python",
   "pygments_lexer": "ipython3",
   "version": "3.11.9"
  }
 },
 "nbformat": 4,
 "nbformat_minor": 4
}
