{
 "cells": [
  {
   "cell_type": "code",
   "execution_count": 1,
   "id": "a81d059b",
   "metadata": {
    "vscode": {
     "languageId": "plaintext"
    }
   },
   "outputs": [],
   "source": [
    "import scipy.stats as stats\n",
    "import numpy as np"
   ]
  },
  {
   "cell_type": "markdown",
   "id": "1a1feed9",
   "metadata": {},
   "source": [
    "Exercise 1\n",
    "- sampling from a 6-sided die"
   ]
  },
  {
   "cell_type": "code",
   "execution_count": 2,
   "id": "22438ba8",
   "metadata": {
    "vscode": {
     "languageId": "plaintext"
    }
   },
   "outputs": [
    {
     "name": "stdout",
     "output_type": "stream",
     "text": [
      "[1 6 4 6 1]\n"
     ]
    }
   ],
   "source": [
    "die_6 = range(1, 7)\n",
    "print(np.random.choice(die_6, size = 5, replace = True))"
   ]
  },
  {
   "cell_type": "markdown",
   "id": "5e329631",
   "metadata": {},
   "source": [
    "Exercise 4 - binomial probability mass function\n",
    "- 6 heads from 10 fair coin flips"
   ]
  },
  {
   "cell_type": "code",
   "execution_count": 3,
   "id": "320d2cdc",
   "metadata": {
    "vscode": {
     "languageId": "plaintext"
    }
   },
   "outputs": [
    {
     "name": "stdout",
     "output_type": "stream",
     "text": [
      "0.2050781249999999\n"
     ]
    }
   ],
   "source": [
    "print(stats.binom.pmf(6, 10, 0.5))"
   ]
  },
  {
   "cell_type": "markdown",
   "id": "88d8a24e",
   "metadata": {},
   "source": [
    "Exercise 6 - binomial probability mass function\n",
    "- 2 to 4 heads from 10 coin flips\n",
    "- P(X = 2) + P(X = 3) + P(X = 4)"
   ]
  },
  {
   "cell_type": "code",
   "execution_count": 4,
   "id": "0da7cf4f",
   "metadata": {
    "vscode": {
     "languageId": "plaintext"
    }
   },
   "outputs": [
    {
     "name": "stdout",
     "output_type": "stream",
     "text": [
      "0.3662109374999999\n"
     ]
    }
   ],
   "source": [
    "print(stats.binom.pmf(2, n=10, p=.5) + stats.binom.pmf(3, n=10, p=.5) + stats.binom.pmf(4, n=10, p=.5))"
   ]
  },
  {
   "cell_type": "markdown",
   "id": "d44a10f8",
   "metadata": {},
   "source": [
    "- 0 to 8 heads from 10 coin flips\n",
    "- 1 - (P(X = 9) + P(X = 10))"
   ]
  },
  {
   "cell_type": "code",
   "execution_count": 5,
   "id": "8f933f1e",
   "metadata": {
    "vscode": {
     "languageId": "plaintext"
    }
   },
   "outputs": [
    {
     "name": "stdout",
     "output_type": "stream",
     "text": [
      "0.9892578125\n"
     ]
    }
   ],
   "source": [
    "print(1 - (stats.binom.pmf(9, n=10, p=.5) + stats.binom.pmf(10, n=10, p=.5)))"
   ]
  },
  {
   "cell_type": "markdown",
   "id": "d5e97cb0",
   "metadata": {},
   "source": [
    "Exercise 9 - binomial cumulative distribution function\n",
    "- 6 or fewer heads from 10 coin flips"
   ]
  },
  {
   "cell_type": "code",
   "execution_count": 6,
   "id": "9f35d8e3",
   "metadata": {
    "vscode": {
     "languageId": "plaintext"
    }
   },
   "outputs": [
    {
     "name": "stdout",
     "output_type": "stream",
     "text": [
      "0.828125\n"
     ]
    }
   ],
   "source": [
    "print(stats.binom.cdf(6, 10, 0.5))"
   ]
  },
  {
   "cell_type": "markdown",
   "id": "adad86bd",
   "metadata": {},
   "source": [
    "- more than 6 heads from 10 coin flips"
   ]
  },
  {
   "cell_type": "code",
   "execution_count": 7,
   "id": "70b295cb",
   "metadata": {
    "vscode": {
     "languageId": "plaintext"
    }
   },
   "outputs": [
    {
     "name": "stdout",
     "output_type": "stream",
     "text": [
      "0.171875\n"
     ]
    }
   ],
   "source": [
    "print(1 - stats.binom.cdf(6, 10, 0.5))"
   ]
  },
  {
   "cell_type": "markdown",
   "id": "88a1ca66",
   "metadata": {},
   "source": [
    "- between 4 and 8 heads from 10 coin flips"
   ]
  },
  {
   "cell_type": "code",
   "execution_count": 8,
   "id": "3fa816bb",
   "metadata": {
    "vscode": {
     "languageId": "plaintext"
    }
   },
   "outputs": [
    {
     "name": "stdout",
     "output_type": "stream",
     "text": [
      "0.8173828125\n"
     ]
    }
   ],
   "source": [
    "print(stats.binom.cdf(8, 10, 0.5) - stats.binom.cdf(3, 10, 0.5))"
   ]
  },
  {
   "cell_type": "markdown",
   "id": "58147f2a",
   "metadata": {},
   "source": [
    "Exercise 10 - normal distribution cumulative distribution function\n",
    "- stats.norm.cdf(x, loc, scale)\n",
    "- temperature being less than 14*C\n",
    "  - x = 14, loc = 20, scale = 3"
   ]
  },
  {
   "cell_type": "code",
   "execution_count": 9,
   "id": "7c33f23e",
   "metadata": {
    "vscode": {
     "languageId": "plaintext"
    }
   },
   "outputs": [
    {
     "name": "stdout",
     "output_type": "stream",
     "text": [
      "0.0227501319481792\n"
     ]
    }
   ],
   "source": [
    "print(stats.norm.cdf(14, 20, 3))"
   ]
  },
  {
   "cell_type": "markdown",
   "id": "8c3c8efc",
   "metadata": {},
   "source": [
    "Exercise 11\n",
    "- temperature being greater than 24*C\n",
    "  - x = 24, loc = 20, scale = 3"
   ]
  },
  {
   "cell_type": "code",
   "execution_count": 10,
   "id": "0c64cd36",
   "metadata": {
    "vscode": {
     "languageId": "plaintext"
    }
   },
   "outputs": [
    {
     "name": "stdout",
     "output_type": "stream",
     "text": [
      "0.09121121972586788\n"
     ]
    }
   ],
   "source": [
    "print(1 - stats.norm.cdf(24, 20, 3))"
   ]
  },
  {
   "cell_type": "markdown",
   "id": "576c94f7",
   "metadata": {},
   "source": [
    "- temperature being between 21*C and 25*C\n",
    "  - x = 24, loc = 20, scale = 3"
   ]
  },
  {
   "cell_type": "code",
   "execution_count": 11,
   "id": "ab4ac7de",
   "metadata": {
    "vscode": {
     "languageId": "plaintext"
    }
   },
   "outputs": [
    {
     "name": "stdout",
     "output_type": "stream",
     "text": [
      "0.32165098790894897\n"
     ]
    }
   ],
   "source": [
    "print(stats.norm.cdf(25, 20, 3) - stats.norm.cdf(21, 20, 3))"
   ]
  }
 ],
 "metadata": {
  "kernelspec": {
   "display_name": "Python 3 (ipykernel)",
   "language": "python",
   "name": "python3"
  },
  "language_info": {
   "codemirror_mode": {
    "name": "ipython",
    "version": 3
   },
   "file_extension": ".py",
   "mimetype": "text/x-python",
   "name": "python",
   "nbconvert_exporter": "python",
   "pygments_lexer": "ipython3",
   "version": "3.11.9"
  }
 },
 "nbformat": 4,
 "nbformat_minor": 5
}
